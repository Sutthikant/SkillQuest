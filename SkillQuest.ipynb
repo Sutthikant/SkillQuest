{
  "nbformat": 4,
  "nbformat_minor": 0,
  "metadata": {
    "colab": {
      "provenance": []
    },
    "kernelspec": {
      "name": "python3",
      "display_name": "Python 3"
    },
    "language_info": {
      "name": "python"
    }
  },
  "cells": [
    {
      "cell_type": "code",
      "source": [
        "print(\"This message is from google colab\")"
      ],
      "metadata": {
        "id": "6gQ8GVz8LvIC"
      },
      "execution_count": null,
      "outputs": []
    }
  ]
}